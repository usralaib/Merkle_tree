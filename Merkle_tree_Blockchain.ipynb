{
  "nbformat": 4,
  "nbformat_minor": 0,
  "metadata": {
    "colab": {
      "provenance": []
    },
    "kernelspec": {
      "name": "python3",
      "display_name": "Python 3"
    },
    "language_info": {
      "name": "python"
    }
  },
  "cells": [
    {
      "cell_type": "markdown",
      "source": [
        "Importing the library :"
      ],
      "metadata": {
        "id": "TVbLjLIjn6mo"
      }
    },
    {
      "cell_type": "code",
      "source": [
        "from typing import List\n",
        "import typing\n",
        "import hashlib"
      ],
      "metadata": {
        "id": "Y2Nxg-YGI6v9"
      },
      "execution_count": null,
      "outputs": []
    },
    {
      "cell_type": "markdown",
      "source": [
        "Creating a node (leaf) class and adding two static methods to do the hashing :"
      ],
      "metadata": {
        "id": "niUKL9_nn8Q7"
      }
    },
    {
      "cell_type": "code",
      "source": [
        "class Node:\n",
        "    def __init__(self, left, right, value: str)-> None:\n",
        "        self.left: Node = left\n",
        "        self.right: Node = right\n",
        "        self.value = value\n",
        "\n",
        "    @staticmethod\n",
        "    def hash(val: str)-> str:\n",
        "        return hashlib.sha256(val.encode('utf-8')).hexdigest()\n",
        "\n",
        "    @staticmethod\n",
        "    def doubleHash(val: str)-> str:\n",
        "        return Node.hash(Node.hash(val))"
      ],
      "metadata": {
        "id": "kE0bqok4cmRP"
      },
      "execution_count": null,
      "outputs": []
    },
    {
      "cell_type": "markdown",
      "source": [
        "Creating a MerkleTree class :"
      ],
      "metadata": {
        "id": "kzNl_50Nn_Sv"
      }
    },
    {
      "cell_type": "code",
      "source": [
        "class MerkleTree:\n",
        "    def __init__(self, values: List[str])-> None:\n",
        "        self.__buildTree(values)\n",
        "\n",
        "    def __buildTree(self, values: List[str])-> None:\n",
        "        leaves: List[Node] = [Node(None, None, Node.doubleHash(e)) for e in values]\n",
        "        if len(leaves) % 2 == 1:\n",
        "            leaves.append(leaves[-1:][0]) # duplicate last elem if odd number of elements\n",
        "        self.root: Node = self.__buildTreeRec(leaves)\n",
        "\n",
        "    def __buildTreeRec(self, nodes: List[Node])-> Node:\n",
        "        half: int = len(nodes) // 2\n",
        "\n",
        "        if len(nodes) == 2:\n",
        "            return Node(nodes[0], nodes[1], Node.doubleHash(nodes[0].value + nodes[1].value))\n",
        "\n",
        "        left: Node = self.__buildTreeRec(nodes[:half])\n",
        "        right: Node = self.__buildTreeRec(nodes[half:])\n",
        "        value: str = Node.doubleHash(left.value + right.value)\n",
        "        return Node(left, right, value)\n",
        "\n",
        "    def printTree(self)-> None:\n",
        "        self.__printTreeRec(self.root)\n",
        "\n",
        "    def __printTreeRec(self, node)-> None:\n",
        "        if node != None:\n",
        "            print(node.value)\n",
        "            self.__printTreeRec(node.left)\n",
        "            self.__printTreeRec(node.right)\n",
        "\n",
        "    def getRootHash(self)-> str:\n",
        "        return self.root.value"
      ],
      "metadata": {
        "id": "U3e_xGbIcpo4"
      },
      "execution_count": null,
      "outputs": []
    },
    {
      "cell_type": "markdown",
      "source": [
        "Testing our data structure by sending an input (list of strings) and getting its corresponding merkle tree root hash :"
      ],
      "metadata": {
        "id": "keMJPS41omcK"
      }
    },
    {
      "cell_type": "code",
      "source": [
        "def test()-> None:\n",
        "    elems = [\"Hello\", \"Sarah\", \"Yousra\",\"DSIA\"]\n",
        "    mtree = MerkleTree(elems)\n",
        "    print(mtree.getRootHash())\n",
        "\n",
        "test()"
      ],
      "metadata": {
        "colab": {
          "base_uri": "https://localhost:8080/"
        },
        "id": "8wfHE4-RjIuo",
        "outputId": "279f27fd-bc3a-4e5a-9fa2-82af45257478"
      },
      "execution_count": null,
      "outputs": [
        {
          "output_type": "stream",
          "name": "stdout",
          "text": [
            "39dcc0790101b50ab8ec7fe7bb625f8d4ef45d1bb3f86a817424440b62923928\n"
          ]
        }
      ]
    }
  ]
}